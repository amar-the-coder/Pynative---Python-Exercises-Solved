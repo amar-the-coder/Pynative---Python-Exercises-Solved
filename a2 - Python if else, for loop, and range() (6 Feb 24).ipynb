{
 "cells": [
  {
   "cell_type": "markdown",
   "id": "246d2307",
   "metadata": {},
   "source": [
    "### Loop Exercise"
   ]
  },
  {
   "cell_type": "markdown",
   "id": "363f622d",
   "metadata": {},
   "source": [
    "###  Exercise 1: Print First 10 natural numbers using while loop"
   ]
  },
  {
   "cell_type": "code",
   "execution_count": 1,
   "id": "62b68d32",
   "metadata": {},
   "outputs": [
    {
     "name": "stdout",
     "output_type": "stream",
     "text": [
      "1\n",
      "2\n",
      "3\n",
      "4\n",
      "5\n",
      "6\n",
      "7\n",
      "8\n",
      "9\n",
      "10\n"
     ]
    }
   ],
   "source": [
    "n=1\n",
    "while(n<11):\n",
    "    print(n)\n",
    "    n+=1"
   ]
  },
  {
   "cell_type": "markdown",
   "id": "d2d42d99",
   "metadata": {},
   "source": [
    "### Exercise 2: Print the following pattern\n",
    "    Write a program to print the following number pattern using a loop.\n",
    "    1 \n",
    "    1 2 \n",
    "    1 2 3 \n",
    "    1 2 3 4 \n",
    "    1 2 3 4 5"
   ]
  },
  {
   "cell_type": "code",
   "execution_count": 2,
   "id": "b23c632f",
   "metadata": {},
   "outputs": [
    {
     "name": "stdout",
     "output_type": "stream",
     "text": [
      "1 \n",
      "1 2 \n",
      "1 2 3 \n",
      "1 2 3 4 \n",
      "1 2 3 4 5 \n"
     ]
    }
   ],
   "source": [
    "n=5\n",
    "for i in range(1,n+1):\n",
    "    for j in range(1,i+1):\n",
    "        print(j ,end=\" \")\n",
    "    print()"
   ]
  },
  {
   "cell_type": "markdown",
   "id": "41c7ac11",
   "metadata": {},
   "source": [
    "### Exercise 3: Calculate the sum of all numbers from 1 to a given number\n",
    "\n",
    "    Write a program to accept a number from a user and calculate the sum of all numbers from 1 to a given number\n",
    "\n",
    "    For example, if the user entered 10 the output should be 55 (1+2+3+4+5+6+7+8+9+10)\n",
    "\n",
    "    Expected Output:\n",
    "\n",
    "    Enter number 10\n",
    "    Sum is:  55"
   ]
  },
  {
   "cell_type": "code",
   "execution_count": 3,
   "id": "6e4e0b0e",
   "metadata": {},
   "outputs": [
    {
     "name": "stdout",
     "output_type": "stream",
     "text": [
      "enter the number : 10\n",
      "The total sum of the numbers from 1 to 10 is 55\n"
     ]
    }
   ],
   "source": [
    "user_num = int(input(\"enter the number : \"))\n",
    "i=1\n",
    "total_sum = 0\n",
    "while(i<=user_num):\n",
    "    total_sum=total_sum+i\n",
    "    i+=1\n",
    "print(f\"The total sum of the numbers from 1 to {user_num} is {total_sum}\")"
   ]
  },
  {
   "cell_type": "markdown",
   "id": "aa981498",
   "metadata": {},
   "source": [
    "### Exercise 4: Write a program to print multiplication table of a given number\n",
    "    For example, num = 2 so the output should be\n",
    "    2\n",
    "    4\n",
    "    6\n",
    "    8\n",
    "    10\n",
    "    12\n",
    "    14\n",
    "    16\n",
    "    18\n",
    "    20"
   ]
  },
  {
   "cell_type": "code",
   "execution_count": 4,
   "id": "6c190661",
   "metadata": {},
   "outputs": [
    {
     "name": "stdout",
     "output_type": "stream",
     "text": [
      "enter the number for which you want to find the table : 45\n",
      "enter the number for upto which you want to show the numbers : 20\n",
      "45*1 = 45\n",
      "45*2 = 90\n",
      "45*3 = 135\n",
      "45*4 = 180\n",
      "45*5 = 225\n",
      "45*6 = 270\n",
      "45*7 = 315\n",
      "45*8 = 360\n",
      "45*9 = 405\n",
      "45*10 = 450\n",
      "45*11 = 495\n",
      "45*12 = 540\n",
      "45*13 = 585\n",
      "45*14 = 630\n",
      "45*15 = 675\n",
      "45*16 = 720\n",
      "45*17 = 765\n",
      "45*18 = 810\n",
      "45*19 = 855\n",
      "45*20 = 900\n"
     ]
    }
   ],
   "source": [
    "num = int(input(\"enter the number for which you want to find the table : \"))\n",
    "mul_num = int(input(\"enter the number for upto which you want to show the numbers : \"))\n",
    "i = 1\n",
    "while(i<=mul_num):\n",
    "    print(f\"{num}*{i} = {num*i}\")\n",
    "    i=i+1"
   ]
  },
  {
   "cell_type": "markdown",
   "id": "a44eee4b",
   "metadata": {},
   "source": [
    "### Exercise 5: Display numbers from a list using loop\n",
    "\n",
    "    Write a program to display only those numbers from a list that satisfy the following conditions\n",
    "\n",
    "    The number must be divisible by five\n",
    "    If the number is greater than 150, then skip it and move to the next number\n",
    "    If the number is greater than 500, then stop the loop\n",
    "    \n",
    "    Given:\n",
    "    numbers = [12, 75, 150, 180, 145, 525, 50]"
   ]
  },
  {
   "cell_type": "code",
   "execution_count": 5,
   "id": "aa20485e",
   "metadata": {},
   "outputs": [
    {
     "name": "stdout",
     "output_type": "stream",
     "text": [
      "75\n",
      "150\n",
      "145\n"
     ]
    }
   ],
   "source": [
    "numbers = [12, 75, 150, 180, 145, 525, 50]\n",
    "for num in numbers:\n",
    "    if num>500:\n",
    "        break\n",
    "    if num>150:\n",
    "        continue\n",
    "    if num%5==0:\n",
    "        print(num)"
   ]
  },
  {
   "cell_type": "markdown",
   "id": "defbd2a4",
   "metadata": {},
   "source": [
    "### Exercise 6: Count the total number of digits in a number\n",
    "    Write a program to count the total number of digits in a number using a while loop.\n",
    "\n",
    "    For example, the number is 75869, so the output should be 5."
   ]
  },
  {
   "cell_type": "code",
   "execution_count": 6,
   "id": "37ebc321",
   "metadata": {},
   "outputs": [
    {
     "name": "stdout",
     "output_type": "stream",
     "text": [
      "enter the number : 34567\n",
      "The count of digits in 34567 is 5\n"
     ]
    }
   ],
   "source": [
    "number = int(input(\"enter the number : \"))\n",
    "temp= number\n",
    "count = 0\n",
    "while(number!=0):\n",
    "    number = int(number/10)\n",
    "    count=count+1\n",
    "print(f\"The count of digits in {temp} is {count}\")"
   ]
  },
  {
   "cell_type": "markdown",
   "id": "52937c02",
   "metadata": {},
   "source": [
    "### Exercise 7: Print the following pattern\n",
    "\n",
    "    Write a program to use for loop to print the following reverse number pattern\n",
    "\n",
    "    5 4 3 2 1 \n",
    "    4 3 2 1 \n",
    "    3 2 1 \n",
    "    2 1 \n",
    "    1"
   ]
  },
  {
   "cell_type": "code",
   "execution_count": 7,
   "id": "31e9aedf",
   "metadata": {},
   "outputs": [
    {
     "name": "stdout",
     "output_type": "stream",
     "text": [
      "5 4 3 2 1 \n",
      "4 3 2 1 \n",
      "3 2 1 \n",
      "2 1 \n",
      "1 \n"
     ]
    }
   ],
   "source": [
    "n=5\n",
    "k=5\n",
    "for i in range(n):\n",
    "    p=k\n",
    "    for j in range(i,n):\n",
    "        print(p,end=' ')\n",
    "        p-=1    \n",
    "    k-=1\n",
    "    print()"
   ]
  },
  {
   "cell_type": "markdown",
   "id": "0cf5b0f9",
   "metadata": {},
   "source": [
    "### Exercise 8: Print list in reverse order using a loop\n",
    "\n",
    "    Given:\n",
    "    list1 = [10, 20, 30, 40, 50]\n",
    "    \n",
    "    Expected output:\n",
    "    50\n",
    "    40\n",
    "    30\n",
    "    20\n",
    "    10"
   ]
  },
  {
   "cell_type": "code",
   "execution_count": 8,
   "id": "4b3bbbac",
   "metadata": {},
   "outputs": [
    {
     "name": "stdout",
     "output_type": "stream",
     "text": [
      "--using logic 1 \n",
      "50\n",
      "40\n",
      "30\n",
      "20\n",
      "10\n",
      "--using logic 2 \n",
      "[50, 40, 30, 20, 10]\n",
      "--using logic 3 \n"
     ]
    },
    {
     "data": {
      "text/plain": [
       "[10, 20, 30, 40, 50]"
      ]
     },
     "execution_count": 8,
     "metadata": {},
     "output_type": "execute_result"
    }
   ],
   "source": [
    "list1 = [10, 20, 30, 40, 50]\n",
    "n = len(list1)\n",
    "print(\"--using logic 1 \")\n",
    "for i in range(len(list1)):\n",
    "    print(list1[n-1])\n",
    "    n-=1\n",
    "    \n",
    "## logic 2 using rev function\n",
    "print(\"--using logic 2 \")\n",
    "list1 = list(reversed(list1))\n",
    "print(list1)\n",
    "\n",
    "## logic 3 using slicing\n",
    "print(\"--using logic 3 \")\n",
    "list1[::-1]"
   ]
  },
  {
   "cell_type": "markdown",
   "id": "2a1bd213",
   "metadata": {},
   "source": [
    "### Exercise 9: Display numbers from -10 to -1 using for loop\n",
    "\n",
    "    Expected output:\n",
    "\n",
    "    -10\n",
    "    -9\n",
    "    -8\n",
    "    -7\n",
    "    -6\n",
    "    -5\n",
    "    -4\n",
    "    -3\n",
    "    -2\n",
    "    -1"
   ]
  },
  {
   "cell_type": "code",
   "execution_count": 9,
   "id": "8f68bc22",
   "metadata": {},
   "outputs": [
    {
     "name": "stdout",
     "output_type": "stream",
     "text": [
      "-10\n",
      "-9\n",
      "-8\n",
      "-7\n",
      "-6\n",
      "-5\n",
      "-4\n",
      "-3\n",
      "-2\n",
      "-1\n"
     ]
    }
   ],
   "source": [
    "for i in range(-10,0,1):\n",
    "    print(i)"
   ]
  },
  {
   "cell_type": "markdown",
   "id": "bf1ad8b7",
   "metadata": {},
   "source": [
    "### Exercise 10: Use else block to display a message “Done” after successful execution of for loop\n",
    "    For example, the following loop will execute without any error.\n",
    "\n",
    "    Given:\n",
    "    for i in range(5):\n",
    "        print(i)  \n",
    "\n",
    "    Expected output:\n",
    "    0\n",
    "    1\n",
    "    2\n",
    "    3\n",
    "    4\n",
    "    Done!"
   ]
  },
  {
   "cell_type": "code",
   "execution_count": 10,
   "id": "bf658d08",
   "metadata": {},
   "outputs": [
    {
     "name": "stdout",
     "output_type": "stream",
     "text": [
      "0\n",
      "1\n",
      "2\n",
      "3\n",
      "4\n",
      "Done!\n"
     ]
    }
   ],
   "source": [
    "for i in range(5):\n",
    "    print(i)  \n",
    "print(\"Done!\")"
   ]
  },
  {
   "cell_type": "markdown",
   "id": "ce076018",
   "metadata": {},
   "source": [
    "### Exercise 11: Write a program to display all prime numbers within a range\n",
    "    Note: A Prime Number is a number that cannot be made by multiplying other whole numbers. A prime number is a natural number greater than 1 that is not a product of two smaller natural numbers\n",
    "\n",
    "\n",
    "    Examples:\n",
    "    6 is not a prime mumber because it can be made by 2×3 = 6\n",
    "    37 is a prime number because no other whole numbers multiply together to make it.\n",
    "\n",
    "    Given:\n",
    "    # range\n",
    "    start = 25\n",
    "    end = 50\n",
    "\n",
    "    Expected output:\n",
    "    Prime numbers between 25 and 50 are:\n",
    "    29\n",
    "    31\n",
    "    37\n",
    "    41\n",
    "    43\n",
    "    47"
   ]
  },
  {
   "cell_type": "code",
   "execution_count": 11,
   "id": "6e82767d",
   "metadata": {},
   "outputs": [
    {
     "name": "stdout",
     "output_type": "stream",
     "text": [
      "enter the number : 34\n",
      "The 34 is not prime\n"
     ]
    }
   ],
   "source": [
    "## simple prime question:\n",
    "number = int(input(\"enter the number : \"))\n",
    "\n",
    "if(number == 0 and number <0):\n",
    "    print(\"not prime - you may have enter number 0 or less than 0\")\n",
    "\n",
    "count =0\n",
    "for i in range(1,number+1):\n",
    "    if number%i==0:\n",
    "        count+=1\n",
    "\n",
    "if count==2:\n",
    "    print(f\"The {number} is prime\")\n",
    "else:\n",
    "    print(f\"The {number} is not prime\")"
   ]
  },
  {
   "cell_type": "code",
   "execution_count": 12,
   "id": "24e8c241",
   "metadata": {},
   "outputs": [
    {
     "name": "stdout",
     "output_type": "stream",
     "text": [
      "enter the number : 23\n",
      "The 23 is prime \n"
     ]
    }
   ],
   "source": [
    "import math\n",
    "number = int(input(\"enter the number : \"))\n",
    "\n",
    "if(number == 0 and number <0):\n",
    "    print(\"not prime - you may have enter number 0 or less than 0\")\n",
    "\n",
    "elif(number ==1 ):\n",
    "    print(f\"{number} is not prime\")\n",
    "\n",
    "else:\n",
    "    isprime=True\n",
    "    for i in range(2,int(math.sqrt(number)+1)):\n",
    "        if number%i==0:\n",
    "            isprime=False\n",
    "            break\n",
    "    \n",
    "    if isprime==True:\n",
    "        print(f\"The {number} is prime \")\n",
    "    else:\n",
    "        print(f\"The {number} is not prime\")                    "
   ]
  },
  {
   "cell_type": "code",
   "execution_count": 13,
   "id": "52804ae3",
   "metadata": {},
   "outputs": [
    {
     "name": "stdout",
     "output_type": "stream",
     "text": [
      "The 29 is prime \n",
      "The 31 is prime \n",
      "The 37 is prime \n",
      "The 41 is prime \n",
      "The 43 is prime \n",
      "The 47 is prime \n"
     ]
    }
   ],
   "source": [
    "## prime as per question :-\n",
    "start = 25\n",
    "end = 50\n",
    "while(start!=end):\n",
    "    isprime=True\n",
    "    for i in range(2,int(math.sqrt(start)+1)):\n",
    "        if start%i==0:\n",
    "            isprime=False\n",
    "            break\n",
    "            \n",
    "    if isprime==True:\n",
    "        print(f\"The {start} is prime \")\n",
    "            \n",
    "    start=start+1"
   ]
  },
  {
   "cell_type": "markdown",
   "id": "b29e84a6",
   "metadata": {},
   "source": [
    "### Exercise 12: Display Fibonacci series up to 10 terms\n",
    "\n",
    "    The Fibonacci Sequence is a series of numbers. The next number is found by adding up the two numbers before it. The         first two numbers are 0 and 1.\n",
    "\n",
    "    For example, 0, 1, 1, 2, 3, 5, 8, 13, 21. The next number in this series above is 13+21 = 34.\n",
    "\n",
    "    Expected output:\n",
    "    Fibonacci sequence:\n",
    "    0  1  1  2  3  5  8  13  21  34"
   ]
  },
  {
   "cell_type": "code",
   "execution_count": 14,
   "id": "5ee50b27",
   "metadata": {},
   "outputs": [
    {
     "name": "stdout",
     "output_type": "stream",
     "text": [
      "enter the number :20\n",
      "0 1 1 2 3 5 8 13 21 34 "
     ]
    }
   ],
   "source": [
    "number = int(input(\"enter the number :\"))\n",
    "a = 0\n",
    "b = 1\n",
    "\n",
    "for i in range(10):\n",
    "    print(a, end=\" \")\n",
    "    c=a+b\n",
    "    a=b\n",
    "    b=c\n",
    "    "
   ]
  },
  {
   "cell_type": "markdown",
   "id": "0d6ad619",
   "metadata": {},
   "source": [
    "### Exercise 13: Find the factorial of a given number\n",
    "    Write a program to use the loop to find the factorial of a given number.\n",
    "\n",
    "    The factorial (symbol: !) means to multiply all whole numbers from the chosen number down to 1.\n",
    "\n",
    "    For example: calculate the factorial of 5\n",
    "\n",
    "    5! = 5 × 4 × 3 × 2 × 1 = 120\n",
    "    \n",
    "    Expected output:\n",
    "    120"
   ]
  },
  {
   "cell_type": "code",
   "execution_count": 15,
   "id": "6673bc99",
   "metadata": {},
   "outputs": [
    {
     "name": "stdout",
     "output_type": "stream",
     "text": [
      "enter the number :65\n",
      "The Factorial of 65 is : 8247650592082470666723170306785496252186258551345437492922123134388955774976000000000000000\n"
     ]
    }
   ],
   "source": [
    "number = int(input(\"enter the number :\"))\n",
    "res = 1\n",
    "for i in range(1,number+1):\n",
    "    res = res*i\n",
    "print(f\"The Factorial of {number} is : {res}\")"
   ]
  },
  {
   "cell_type": "markdown",
   "id": "46deb6f8",
   "metadata": {},
   "source": [
    "### Exercise 14: Reverse a given integer number\n",
    "    Given:\n",
    "    76542\n",
    "\n",
    "    Expected output:\n",
    "    24567"
   ]
  },
  {
   "cell_type": "code",
   "execution_count": 16,
   "id": "04806efe",
   "metadata": {},
   "outputs": [
    {
     "name": "stdout",
     "output_type": "stream",
     "text": [
      "enter the number :8975\n"
     ]
    },
    {
     "data": {
      "text/plain": [
       "5798"
      ]
     },
     "execution_count": 16,
     "metadata": {},
     "output_type": "execute_result"
    }
   ],
   "source": [
    "number = int(input(\"enter the number :\"))\n",
    "reverse = 0\n",
    "while(number!=0):\n",
    "    last_digit = number%10\n",
    "    reverse = (reverse*10)+last_digit\n",
    "    number = int(number/10)\n",
    "    \n",
    "reverse"
   ]
  },
  {
   "cell_type": "markdown",
   "id": "a57d1bb3",
   "metadata": {},
   "source": [
    "### Exercise 15: Use a loop to display elements from a given list present at odd index positions\n",
    "    Given:\n",
    "    my_list = [10, 20, 30, 40, 50, 60, 70, 80, 90, 100]\n",
    "\n",
    "    Note: list index always starts at 0\n",
    "\n",
    "    Expected output:\n",
    "    20 40 60 80 100"
   ]
  },
  {
   "cell_type": "code",
   "execution_count": 17,
   "id": "74bf959d",
   "metadata": {},
   "outputs": [
    {
     "name": "stdout",
     "output_type": "stream",
     "text": [
      "1 20\n",
      "3 40\n",
      "5 60\n",
      "7 80\n",
      "9 100\n"
     ]
    }
   ],
   "source": [
    "my_list = [10, 20, 30, 40, 50, 60, 70, 80, 90, 100]\n",
    "for i in range(len(my_list)):\n",
    "    if i&1==1: # bcz we have to print at odd positions\n",
    "        print(f\"{i} {my_list[i]}\")"
   ]
  },
  {
   "cell_type": "markdown",
   "id": "623234af",
   "metadata": {},
   "source": [
    "### Exercise 16: Calculate the cube of all numbers from 1 to a given number\n",
    "\n",
    "    Write a program to rint the cube of all numbers from 1 to a given number\n",
    "\n",
    "    Given:\n",
    "    input_number = 6\n",
    "\n",
    "    Expected output:\n",
    "    Current Number is : 1  and the cube is 1\n",
    "    Current Number is : 2  and the cube is 8\n",
    "    Current Number is : 3  and the cube is 27\n",
    "    Current Number is : 4  and the cube is 64\n",
    "    Current Number is : 5  and the cube is 125\n",
    "    Current Number is : 6  and the cube is 216"
   ]
  },
  {
   "cell_type": "code",
   "execution_count": 18,
   "id": "87be02f0",
   "metadata": {},
   "outputs": [
    {
     "name": "stdout",
     "output_type": "stream",
     "text": [
      "enter the number :23\n",
      "Current number is : 1 and the cube is 1\n",
      "Current number is : 2 and the cube is 8\n",
      "Current number is : 3 and the cube is 27\n",
      "Current number is : 4 and the cube is 64\n",
      "Current number is : 5 and the cube is 125\n",
      "Current number is : 6 and the cube is 216\n",
      "Current number is : 7 and the cube is 343\n",
      "Current number is : 8 and the cube is 512\n",
      "Current number is : 9 and the cube is 729\n",
      "Current number is : 10 and the cube is 1000\n",
      "Current number is : 11 and the cube is 1331\n",
      "Current number is : 12 and the cube is 1728\n",
      "Current number is : 13 and the cube is 2197\n",
      "Current number is : 14 and the cube is 2744\n",
      "Current number is : 15 and the cube is 3375\n",
      "Current number is : 16 and the cube is 4096\n",
      "Current number is : 17 and the cube is 4913\n",
      "Current number is : 18 and the cube is 5832\n",
      "Current number is : 19 and the cube is 6859\n",
      "Current number is : 20 and the cube is 8000\n",
      "Current number is : 21 and the cube is 9261\n",
      "Current number is : 22 and the cube is 10648\n",
      "Current number is : 23 and the cube is 12167\n"
     ]
    }
   ],
   "source": [
    "number = int(input(\"enter the number :\"))\n",
    "i = 1\n",
    "while(i<=number):\n",
    "    print(f\"Current number is : {i} and the cube is {i**3}\")\n",
    "    i+=1"
   ]
  },
  {
   "cell_type": "markdown",
   "id": "7b2c2f02",
   "metadata": {},
   "source": [
    "### Exercise 17: Find the sum of the series upto n terms\n",
    "\n",
    "    Write a program to calculate the sum of series up to n term. For example, if n =5 the series will become \n",
    "    2 + 22 + 222 + 2222 + 22222 = 24690\n",
    "\n",
    "    Given:\n",
    "    number of terms\n",
    "    n = 5\n",
    "\n",
    "    Expected output:\n",
    "    24690"
   ]
  },
  {
   "cell_type": "code",
   "execution_count": 19,
   "id": "3347d7e6",
   "metadata": {},
   "outputs": [
    {
     "name": "stdout",
     "output_type": "stream",
     "text": [
      "2\n",
      "22\n",
      "222\n",
      "2222\n",
      "22222\n"
     ]
    },
    {
     "data": {
      "text/plain": [
       "24690"
      ]
     },
     "execution_count": 19,
     "metadata": {},
     "output_type": "execute_result"
    }
   ],
   "source": [
    "n = 5\n",
    "total_sum = 0\n",
    "curr_num = 2\n",
    "i=1\n",
    "while(i<=n):\n",
    "    total_sum+=curr_num\n",
    "    print(curr_num)\n",
    "    curr_num = (curr_num*10)+2\n",
    "    i+=1\n",
    "total_sum"
   ]
  },
  {
   "cell_type": "code",
   "execution_count": 20,
   "id": "bbd402ad",
   "metadata": {},
   "outputs": [
    {
     "name": "stdout",
     "output_type": "stream",
     "text": [
      "enter the series number for which you want to find the sum : 3\n",
      "Upto which value you want to find the sum : 6\n",
      "current number is after 1 :  3\n",
      "current number is after 2 :  33\n",
      "current number is after 3 :  333\n",
      "current number is after 4 :  3333\n",
      "current number is after 5 :  33333\n",
      "current number is after 6 :  333333\n",
      "The total sum is :  370368\n"
     ]
    }
   ],
   "source": [
    "ser_num = int(input(\"enter the series number for which you want to find the sum : \")) \n",
    "value =   int(input(\"Upto which value you want to find the sum : \"))\n",
    "i=1\n",
    "n = ser_num\n",
    "total_sum = 0\n",
    "while(i<=value):\n",
    "    print(f\"current number is after {i} : \",ser_num)\n",
    "    total_sum+=ser_num\n",
    "    ser_num = (ser_num*10)+n\n",
    "    i+=1\n",
    "print(\"The total sum is : \",total_sum)"
   ]
  },
  {
   "cell_type": "markdown",
   "id": "a13133be",
   "metadata": {},
   "source": [
    "### Exercise 18: Print the following pattern\n",
    "    Write a program to print the following start pattern using the for loop\n",
    "\n",
    "    * \n",
    "    * * \n",
    "    * * * \n",
    "    * * * * \n",
    "    * * * * * \n",
    "    * * * * \n",
    "    * * * \n",
    "    * * \n",
    "    *"
   ]
  },
  {
   "cell_type": "code",
   "execution_count": 21,
   "id": "e46d9b7c",
   "metadata": {},
   "outputs": [
    {
     "name": "stdout",
     "output_type": "stream",
     "text": [
      "* \n",
      "* * \n",
      "* * * \n",
      "* * * * \n",
      "* * * * * \n",
      "* * * * \n",
      "* * * \n",
      "* * \n",
      "* \n"
     ]
    }
   ],
   "source": [
    "n=5\n",
    "for i in range(n-1):\n",
    "    for j in range(i+1):\n",
    "        print(\"*\",end=\" \")\n",
    "    print()    \n",
    "for i in range(n):\n",
    "    for j in range(i,n):\n",
    "        print(\"*\",end=\" \")\n",
    "    print()"
   ]
  },
  {
   "cell_type": "code",
   "execution_count": null,
   "id": "f5e91960",
   "metadata": {},
   "outputs": [],
   "source": []
  }
 ],
 "metadata": {
  "kernelspec": {
   "display_name": "Python 3 (ipykernel)",
   "language": "python",
   "name": "python3"
  },
  "language_info": {
   "codemirror_mode": {
    "name": "ipython",
    "version": 3
   },
   "file_extension": ".py",
   "mimetype": "text/x-python",
   "name": "python",
   "nbconvert_exporter": "python",
   "pygments_lexer": "ipython3",
   "version": "3.11.4"
  }
 },
 "nbformat": 4,
 "nbformat_minor": 5
}
