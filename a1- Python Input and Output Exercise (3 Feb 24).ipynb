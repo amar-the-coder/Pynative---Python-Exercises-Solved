{
 "cells": [
  {
   "cell_type": "markdown",
   "id": "e803b8ac",
   "metadata": {},
   "source": [
    "### Exercise 1: Accept numbers from a user\n",
    "\n",
    "    Write a program to accept two numbers from the user and calculate multiplication"
   ]
  },
  {
   "cell_type": "code",
   "execution_count": 3,
   "id": "725d30e3",
   "metadata": {},
   "outputs": [
    {
     "name": "stdout",
     "output_type": "stream",
     "text": [
      "Enter the number : 223\n",
      "Enter the number : 23\n",
      "The multiplication of the 223 and 23 is : 5129\n"
     ]
    }
   ],
   "source": [
    "num1= int(input(\"Enter the number : \"))\n",
    "num2 = int(input(\"Enter the number : \"))\n",
    "print(f\"The multiplication of the {num1} and {num2} is : {num1*num2}\")"
   ]
  },
  {
   "cell_type": "markdown",
   "id": "67cf0187",
   "metadata": {},
   "source": [
    "### Exercise 2: Display three string “Name”, “Is”, “James” as “Name**Is**James”\n",
    "    Use the print() function to format the given words in the mentioned format. Display the ** separator between each string"
   ]
  },
  {
   "cell_type": "code",
   "execution_count": 14,
   "id": "b696b156",
   "metadata": {},
   "outputs": [
    {
     "name": "stdout",
     "output_type": "stream",
     "text": [
      "Name**Is**James\n",
      "Amar's Code's\n",
      "\"Python's\" \"Code's\" \n"
     ]
    }
   ],
   "source": [
    "print('Name','Is','James', sep='**')\n",
    "\n",
    "# print Amar's Code's\n",
    "print(\"Amar\\'s Code\\'s\")\n",
    "\n",
    "# \"Python's\" \"Code's\"\n",
    "print(\"\\\"Python\\'s\\\" \\\"Code\\'s\\\" \")"
   ]
  },
  {
   "cell_type": "markdown",
   "id": "61ab0fba",
   "metadata": {},
   "source": [
    "### Exercise 3: Convert Decimal number to octal using print() output formatting\n",
    "    Given: num = 8\n",
    "    Expected Output:\n",
    "    The octal number of decimal number 8 is 10"
   ]
  },
  {
   "cell_type": "code",
   "execution_count": 33,
   "id": "47e297b4",
   "metadata": {},
   "outputs": [
    {
     "name": "stdout",
     "output_type": "stream",
     "text": [
      "10\n",
      "0o10\n",
      "7\n",
      "73\n",
      "273\n"
     ]
    }
   ],
   "source": [
    "\n",
    "## yaha p hum decimal number ko octal m change kar rahe hai\n",
    "num=8\n",
    "print('%o'%num)\n",
    "\n",
    "## another method\n",
    "print(oct(8))\n",
    "\n",
    "## to convert binary number into decimal \n",
    "## hume binary number hi dena hai hamehsa\n",
    "print(0b111)\n",
    "\n",
    "## to convert binary number into oct\n",
    "## hume binary number hi dena hai hamehsa\n",
    "print(0o111)\n",
    "\n",
    "## to convert binary number into hex\n",
    "## hume binary number hi dena hai hamehsa\n",
    "print(0x111)\n"
   ]
  },
  {
   "cell_type": "markdown",
   "id": "5e1a4b82",
   "metadata": {},
   "source": [
    "### Exercise 4: Display float number with 2 decimal places using print()\n",
    "    \n",
    "    Given:\n",
    "    num = 458.541315\n",
    "    Expected Output:458.54"
   ]
  },
  {
   "cell_type": "code",
   "execution_count": 35,
   "id": "44a9fb4f",
   "metadata": {},
   "outputs": [
    {
     "name": "stdout",
     "output_type": "stream",
     "text": [
      "458.54\n"
     ]
    }
   ],
   "source": [
    "num=458.541315\n",
    "print(round(num,2))"
   ]
  },
  {
   "cell_type": "markdown",
   "id": "0d0ad337",
   "metadata": {},
   "source": [
    "### Exercise 5: Accept a list of 5 float numbers as an input from the user\n",
    "\n",
    "    Expected Output:\n",
    "\n",
    "    [78.6, 78.6, 85.3,78.6, 78.6, 85.3, 1.2, 3.5]"
   ]
  },
  {
   "cell_type": "code",
   "execution_count": 39,
   "id": "00058bf7",
   "metadata": {},
   "outputs": [
    {
     "name": "stdout",
     "output_type": "stream",
     "text": [
      "enter the number sep by comma : \n",
      "enter the numbers : 1.2,3.4,5.6,6.6,7.7\n"
     ]
    },
    {
     "data": {
      "text/plain": [
       "[1.2, 3.4, 5.6, 6.6, 7.7]"
      ]
     },
     "execution_count": 39,
     "metadata": {},
     "output_type": "execute_result"
    }
   ],
   "source": [
    "print(\"enter the number sep by comma : \")\n",
    "numbers = input(\"enter the numbers : \")\n",
    "num_list = numbers.split(',')\n",
    "for i in range(len(num_list)):\n",
    "    num_list[i]= float(num_list[i])\n",
    "    \n",
    "num_list"
   ]
  },
  {
   "cell_type": "code",
   "execution_count": 41,
   "id": "b770ef18",
   "metadata": {},
   "outputs": [
    {
     "name": "stdout",
     "output_type": "stream",
     "text": [
      "enter the values\n",
      "enter the value in float point : 23.4\n",
      "enter the value in float point : 45.3\n",
      "enter the value in float point : 23.5\n",
      "enter the value in float point : 21.3\n",
      "enter the value in float point : 12.3\n"
     ]
    },
    {
     "data": {
      "text/plain": [
       "[23.4, 45.3, 23.5, 21.3, 12.3]"
      ]
     },
     "execution_count": 41,
     "metadata": {},
     "output_type": "execute_result"
    }
   ],
   "source": [
    "## second method - \n",
    "print(\"enter the values\")\n",
    "num_list = []\n",
    "for i in range(5):\n",
    "    num= float(input(\"enter the value in float point : \"))\n",
    "    num_list.append(num)\n",
    "num_list"
   ]
  },
  {
   "cell_type": "markdown",
   "id": "03700d54",
   "metadata": {},
   "source": [
    "### Exercise 6: Write all content of a given file into a new file by skipping line number 5\n",
    "\n",
    "    Create a test.txt file and add the below content to it.\n",
    "\n",
    "    Given test.txt file:\n",
    "    line1\n",
    "    line2\n",
    "    line3\n",
    "    line4\n",
    "    line5\n",
    "    line6\n",
    "    line7\n",
    "    \n",
    "    Expected Output: new_file.txt\n",
    "\n",
    "    line1\n",
    "    line2\n",
    "    line3\n",
    "    line4\n",
    "    line6\n",
    "    line7"
   ]
  },
  {
   "cell_type": "code",
   "execution_count": 55,
   "id": "8e206c03",
   "metadata": {},
   "outputs": [
    {
     "name": "stdout",
     "output_type": "stream",
     "text": [
      "The content of the file : - ['line1\\n', 'line2\\n', 'line3\\n', 'line4\\n', 'line5\\n', 'line6\\n', 'line7']\n"
     ]
    }
   ],
   "source": [
    "with open (r\"C:\\Users\\amarj\\Alabs_Python_Codes\\a5_Python Practice - Daily Habit\\0. Exercises Docs Materials\\txt.txt\",'r') as file1:\n",
    "    content = file1.readlines()\n",
    "print(f'The content of the file : - {content}')\n",
    "\n",
    "with open (r\"C:\\Users\\amarj\\Alabs_Python_Codes\\a5_Python Practice - Daily Habit\\0. Exercises Docs Materials\\new_file.txt\",'w') as file2:\n",
    "    count =1\n",
    "    for line in content:\n",
    "        if count==5:\n",
    "            count+=1\n",
    "            continue\n",
    "        else: \n",
    "            file2.write(line)\n",
    "        count+=1"
   ]
  },
  {
   "cell_type": "markdown",
   "id": "bf6c9d32",
   "metadata": {},
   "source": [
    "### Exercise 7: Accept any three string from one input() call\n",
    "    Write a program to take three names as input from a user in the single input() function call."
   ]
  },
  {
   "cell_type": "code",
   "execution_count": 58,
   "id": "8405add9",
   "metadata": {},
   "outputs": [
    {
     "name": "stdout",
     "output_type": "stream",
     "text": [
      "enter three names : amar vanshaj sheetal\n",
      "amar\n",
      "vanshaj\n",
      "sheetal\n"
     ]
    }
   ],
   "source": [
    "name1,name2,name3 = input(\"enter three names : \").split()\n",
    "print(name1)\n",
    "print(name2)\n",
    "print(name3)"
   ]
  },
  {
   "cell_type": "markdown",
   "id": "e993cb13",
   "metadata": {},
   "source": [
    "### Exercise 8: Format variables using a string.format() method.\n",
    "    Write a program to use string.format() method to format the following three variables as per the expected output\n",
    "     \n",
    "    Given:\n",
    "    totalMoney = 1000\n",
    "    quantity = 3\n",
    "    price = 450\n",
    "    \n",
    "    Expected Output:\n",
    "    I have 1000 dollars so I can buy 3 football for 450.00 dollars."
   ]
  },
  {
   "cell_type": "code",
   "execution_count": 59,
   "id": "3c3a04fd",
   "metadata": {},
   "outputs": [
    {
     "name": "stdout",
     "output_type": "stream",
     "text": [
      "I have 1000 dollars so I can buy 3 football for 450 dollars.\n"
     ]
    }
   ],
   "source": [
    "totalMoney = 1000\n",
    "quantity = 3\n",
    "price = 450\n",
    "line = \"I have {0} dollars so I can buy {1} football for {2} dollars.\"\n",
    "print(line.format(totalMoney,quantity,price))"
   ]
  },
  {
   "cell_type": "markdown",
   "id": "955cc11e",
   "metadata": {},
   "source": [
    "### Exercise 9: Check file is empty or not\n",
    "    Write a program to check if the given file is empty or not"
   ]
  },
  {
   "cell_type": "code",
   "execution_count": 61,
   "id": "26f1e02b",
   "metadata": {},
   "outputs": [
    {
     "name": "stdout",
     "output_type": "stream",
     "text": [
      "empty\n"
     ]
    }
   ],
   "source": [
    "import os \n",
    "size =os.stat(r\"C:\\Users\\amarj\\Alabs_Python_Codes\\a5_Python Practice - Daily Habit\\0. Exercises Docs Materials\\empty.txt\").st_size\n",
    "if size == 0:\n",
    "    print(\"empty\")\n",
    "else:\n",
    "    print(\"not empty\")"
   ]
  },
  {
   "cell_type": "markdown",
   "id": "cccd9c44",
   "metadata": {},
   "source": [
    "### Exercise 10: Read line number 4 from the following file\n",
    "\n",
    "    Given:\n",
    "    test.txt file:\n",
    "\n",
    "    line1\n",
    "    line2\n",
    "    line3\n",
    "    line4\n",
    "    line5\n",
    "    line6\n",
    "    line7"
   ]
  },
  {
   "cell_type": "code",
   "execution_count": 63,
   "id": "cb9a37be",
   "metadata": {},
   "outputs": [
    {
     "name": "stdout",
     "output_type": "stream",
     "text": [
      "The content of the file : - ['line1\\n', 'line2\\n', 'line3\\n', 'line4\\n', 'line5\\n', 'line6\\n', 'line7']\n",
      "line 4 : line4\n",
      "\n"
     ]
    }
   ],
   "source": [
    "with open (r\"C:\\Users\\amarj\\Alabs_Python_Codes\\a5_Python Practice - Daily Habit\\0. Exercises Docs Materials\\txt.txt\",'r') as file1:\n",
    "    content = file1.readlines()\n",
    "print(f'The content of the file : - {content}')\n",
    "\n",
    "print(f'line 4 : {content[3]}')"
   ]
  },
  {
   "cell_type": "code",
   "execution_count": null,
   "id": "b1fe7495",
   "metadata": {},
   "outputs": [],
   "source": []
  }
 ],
 "metadata": {
  "kernelspec": {
   "display_name": "Python 3 (ipykernel)",
   "language": "python",
   "name": "python3"
  },
  "language_info": {
   "codemirror_mode": {
    "name": "ipython",
    "version": 3
   },
   "file_extension": ".py",
   "mimetype": "text/x-python",
   "name": "python",
   "nbconvert_exporter": "python",
   "pygments_lexer": "ipython3",
   "version": "3.11.4"
  }
 },
 "nbformat": 4,
 "nbformat_minor": 5
}
