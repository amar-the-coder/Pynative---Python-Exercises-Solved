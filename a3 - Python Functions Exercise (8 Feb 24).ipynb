{
 "cells": [
  {
   "cell_type": "markdown",
   "id": "3cacc882",
   "metadata": {},
   "source": [
    "### Functions Exercise"
   ]
  },
  {
   "cell_type": "markdown",
   "id": "4f915ef0",
   "metadata": {},
   "source": [
    "### Exercise 1: Create a function in Python\n",
    "    Write a program to create a function that takes two arguments, name and age, and print their value."
   ]
  },
  {
   "cell_type": "code",
   "execution_count": 3,
   "id": "890ae6aa",
   "metadata": {},
   "outputs": [
    {
     "name": "stdout",
     "output_type": "stream",
     "text": [
      "enter the age : 12\n",
      "enter the name :amar\n",
      "The Name is : 12\n",
      "The Age is : amar\n"
     ]
    }
   ],
   "source": [
    "def myfunc(name,age):\n",
    "    print(f\"The Name is : {name}\")\n",
    "    print(f\"The Age is : {age}\")\n",
    "\n",
    "age = int(input(\"enter the age : \"))\n",
    "name = input(\"enter the name :\")\n",
    "myfunc(name,age)\n"
   ]
  },
  {
   "cell_type": "code",
   "execution_count": null,
   "id": "b1213e81",
   "metadata": {},
   "outputs": [],
   "source": []
  }
 ],
 "metadata": {
  "kernelspec": {
   "display_name": "Python 3 (ipykernel)",
   "language": "python",
   "name": "python3"
  },
  "language_info": {
   "codemirror_mode": {
    "name": "ipython",
    "version": 3
   },
   "file_extension": ".py",
   "mimetype": "text/x-python",
   "name": "python",
   "nbconvert_exporter": "python",
   "pygments_lexer": "ipython3",
   "version": "3.11.4"
  }
 },
 "nbformat": 4,
 "nbformat_minor": 5
}
